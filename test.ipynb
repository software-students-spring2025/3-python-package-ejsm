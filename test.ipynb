{
 "cells": [
  {
   "cell_type": "code",
   "execution_count": 1,
   "metadata": {},
   "outputs": [],
   "source": [
    "import random\n"
   ]
  },
  {
   "cell_type": "code",
   "execution_count": 5,
   "metadata": {},
   "outputs": [
    {
     "data": {
      "text/plain": [
       "'3hungrypigsgray'"
      ]
     },
     "execution_count": 5,
     "metadata": {},
     "output_type": "execute_result"
    }
   ],
   "source": [
    "def getFunny():\n",
    "    funny_list_1 = list('123456789')\n",
    "    funny_list_2= [\"sleepy\", \"hungry\", \"tired\", \"angry\", \"happy\", \"sad\", \"excited\", \"confused\", \"bored\", \"nervous\", \"excited\", \"happy\", \"sad\", \"angry\", \"tired\", \"sleepy\", \"hungry\", \"bored\", \"confused\", \"nervous\"]\n",
    "    funny_list_3= [\"cats\", \"dogs\", \"birds\", \"fish\", \"snakes\", \"cows\", \"horses\", \"sheep\", \"goats\", \"pigs\", \"chickens\", \"ducks\", \"turkeys\", \"geese\", \"peacocks\", \"parrots\", \"penguins\", \"ostriches\", \"eagles\", \"owls\", \"sparrows\", \"roosters\", \"hens\", \"peahens\", \"roosters\"]\n",
    "    funny_list_4= [\"orange\", \"red\", \"blue\", \"green\", \"yellow\", \"purple\", \"pink\", \"brown\", \"black\", \"white\", \"gray\", \"gold\", \"silver\", \"bronze\", \"copper\", \"iron\", \"steel\", \"gold\", \"silver\", \"bronze\", \"copper\", \"iron\", \"steel\"]\n",
    "    return random.choice(funny_list_1) + random.choice(funny_list_2) + random.choice(funny_list_4) + random.choice(funny_list_3)\n",
    "\n",
    "getFunny()"
   ]
  }
 ],
 "metadata": {
  "kernelspec": {
   "display_name": "Python 3",
   "language": "python",
   "name": "python3"
  },
  "language_info": {
   "codemirror_mode": {
    "name": "ipython",
    "version": 3
   },
   "file_extension": ".py",
   "mimetype": "text/x-python",
   "name": "python",
   "nbconvert_exporter": "python",
   "pygments_lexer": "ipython3",
   "version": "3.10.13"
  }
 },
 "nbformat": 4,
 "nbformat_minor": 2
}
