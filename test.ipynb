{
 "cells": [
  {
   "cell_type": "code",
   "execution_count": 7,
   "metadata": {},
   "outputs": [
    {
     "data": {
      "text/plain": [
       "'1234'"
      ]
     },
     "execution_count": 7,
     "metadata": {},
     "output_type": "execute_result"
    }
   ],
   "source": [
    "def caesar_cipher(word, shift):\n",
    "    try:\n",
    "        shift = int(shift)\n",
    "    except ValueError:\n",
    "        raise ValueError(\"Shift must be a int\")\n",
    "    \n",
    "    if not (1 <= shift <= 25):\n",
    "        raise ValueError(\"Shift value must be between 1 and 25.\")\n",
    "\n",
    "    def shift_letter(char, shift):\n",
    "        if char.isalpha():\n",
    "            base = ord('A') if char.isupper() else ord('a')\n",
    "            return chr((ord(char) - base + shift) % 26 + base)\n",
    "        return char\n",
    "\n",
    "    return ''.join(shift_letter(char, shift) for char in word)\n",
    "\n",
    "caesar_cipher(\"1234\",5)"
   ]
  },
  {
   "cell_type": "code",
   "execution_count": 12,
   "metadata": {},
   "outputs": [],
   "source": [
    "import password_generator.core as core\n",
    "def test_getFunnyPassword_structure():\n",
    "    \"\"\"Ensure that the generated password contains elements from predefined lists.\"\"\"\n",
    "    funny_password = core.getFunnyPassword()\n",
    "    funny_list_1 = list('123456789')\n",
    "    funny_list_2 = [\"sleepy\", \"hungry\", \"tired\", \"angry\", \"happy\", \"sad\", \"excited\", \"confused\", \"bored\", \"nervous\"]\n",
    "    funny_list_3 = [\"cats\", \"dogs\", \"birds\", \"fish\", \"snakes\", \"cows\", \"horses\", \"sheep\", \"goats\", \"pigs\", \"chickens\", \"ducks\", \"turkeys\", \"geese\", \"peacocks\", \"parrots\", \"penguins\", \"ostriches\", \"eagles\", \"owls\", \"sparrows\", \"roosters\", \"hens\", \"peahens\"]\n",
    "    funny_list_4 = [\"orange\", \"red\", \"blue\", \"green\", \"yellow\", \"purple\", \"pink\", \"brown\", \"black\", \"white\", \"gray\", \"gold\", \"silver\", \"bronze\", \"copper\", \"iron\", \"steel\"]\n",
    "\n",
    "    # Ensure that at least one part of the password comes from each list\n",
    "    assert any(item in funny_password for item in funny_list_1)\n",
    "    assert any(item in funny_password for item in funny_list_2)\n",
    "    assert any(item in funny_password for item in funny_list_3)\n",
    "    assert any(item in funny_password for item in funny_list_4)\n",
    "\n",
    "test_getFunnyPassword_structure()"
   ]
  },
  {
   "cell_type": "code",
   "execution_count": 17,
   "metadata": {},
   "outputs": [
    {
     "name": "stdout",
     "output_type": "stream",
     "text": [
      "0.20000000000000284\n",
      "0\n"
     ]
    }
   ],
   "source": [
    "print(42.2 % 1)\n",
    "print(42 % 1)"
   ]
  }
 ],
 "metadata": {
  "kernelspec": {
   "display_name": "Python 3",
   "language": "python",
   "name": "python3"
  },
  "language_info": {
   "codemirror_mode": {
    "name": "ipython",
    "version": 3
   },
   "file_extension": ".py",
   "mimetype": "text/x-python",
   "name": "python",
   "nbconvert_exporter": "python",
   "pygments_lexer": "ipython3",
   "version": "3.10.13"
  }
 },
 "nbformat": 4,
 "nbformat_minor": 2
}
