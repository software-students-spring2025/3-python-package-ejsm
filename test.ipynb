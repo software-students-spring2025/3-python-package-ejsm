{
 "cells": [
  {
   "cell_type": "code",
   "execution_count": 5,
   "metadata": {},
   "outputs": [],
   "source": [
    "import random\n",
    "import hashlib"
   ]
  },
  {
   "cell_type": "code",
   "execution_count": 3,
   "metadata": {},
   "outputs": [
    {
     "data": {
      "text/plain": [
       "'9tiredbronzehens'"
      ]
     },
     "execution_count": 3,
     "metadata": {},
     "output_type": "execute_result"
    }
   ],
   "source": [
    "def getFunny():\n",
    "    funny_list_1 = list('123456789')\n",
    "    funny_list_2= [\"sleepy\", \"hungry\", \"tired\", \"angry\", \"happy\", \"sad\", \"excited\", \"confused\", \"bored\", \"nervous\", \"excited\", \"happy\", \"sad\", \"angry\", \"tired\", \"sleepy\", \"hungry\", \"bored\", \"confused\", \"nervous\"]\n",
    "    funny_list_3= [\"cats\", \"dogs\", \"birds\", \"fish\", \"snakes\", \"cows\", \"horses\", \"sheep\", \"goats\", \"pigs\", \"chickens\", \"ducks\", \"turkeys\", \"geese\", \"peacocks\", \"parrots\", \"penguins\", \"ostriches\", \"eagles\", \"owls\", \"sparrows\", \"roosters\", \"hens\", \"peahens\", \"roosters\"]\n",
    "    funny_list_4= [\"orange\", \"red\", \"blue\", \"green\", \"yellow\", \"purple\", \"pink\", \"brown\", \"black\", \"white\", \"gray\", \"gold\", \"silver\", \"bronze\", \"copper\", \"iron\", \"steel\", \"gold\", \"silver\", \"bronze\", \"copper\", \"iron\", \"steel\"]\n",
    "    return random.choice(funny_list_1) + random.choice(funny_list_2) + random.choice(funny_list_4) + random.choice(funny_list_3)\n",
    "\n",
    "getFunny()"
   ]
  },
  {
   "cell_type": "code",
   "execution_count": 13,
   "metadata": {},
   "outputs": [
    {
     "ename": "ValueError",
     "evalue": "invalid literal for int() with base 10: 'g'",
     "output_type": "error",
     "traceback": [
      "\u001b[0;31m---------------------------------------------------------------------------\u001b[0m",
      "\u001b[0;31mValueError\u001b[0m                                Traceback (most recent call last)",
      "Cell \u001b[0;32mIn[13], line 5\u001b[0m\n\u001b[1;32m      2\u001b[0m     \u001b[38;5;28;01mreturn\u001b[39;00m hashlib\u001b[38;5;241m.\u001b[39msha256(password\u001b[38;5;241m.\u001b[39mencode())\u001b[38;5;241m.\u001b[39mhexdigest()\n\u001b[1;32m      4\u001b[0m \u001b[38;5;28mtype\u001b[39m(generateHash(\u001b[38;5;124m\"\u001b[39m\u001b[38;5;124mpassword\u001b[39m\u001b[38;5;124m\"\u001b[39m))\n\u001b[0;32m----> 5\u001b[0m \u001b[38;5;28;01mif\u001b[39;00m \u001b[38;5;28;43mint\u001b[39;49m\u001b[43m(\u001b[49m\u001b[38;5;124;43m'\u001b[39;49m\u001b[38;5;124;43mg\u001b[39;49m\u001b[38;5;124;43m'\u001b[39;49m\u001b[43m)\u001b[49m:\n\u001b[1;32m      6\u001b[0m     \u001b[38;5;28mprint\u001b[39m(\u001b[38;5;124m\"\u001b[39m\u001b[38;5;124myes\u001b[39m\u001b[38;5;124m\"\u001b[39m)\n\u001b[1;32m      7\u001b[0m \u001b[38;5;28;01melse\u001b[39;00m:\n",
      "\u001b[0;31mValueError\u001b[0m: invalid literal for int() with base 10: 'g'"
     ]
    }
   ],
   "source": [
    "\n",
    "def generateHash(password):\n",
    "    return hashlib.sha256(password.encode()).hexdigest()\n",
    "\n",
    "type(generateHash(\"password\"))\n",
    "if int('g'):\n",
    "    print(\"yes\")\n",
    "else:\n",
    "    print(\"no\")"
   ]
  },
  {
   "cell_type": "code",
   "execution_count": 41,
   "metadata": {},
   "outputs": [
    {
     "ename": "SyntaxError",
     "evalue": "invalid syntax (968835088.py, line 28)",
     "output_type": "error",
     "traceback": [
      "\u001b[0;36m  Cell \u001b[0;32mIn[41], line 28\u001b[0;36m\u001b[0m\n\u001b[0;31m    print(len(generate(, capitalize=True, numbers=True, symbols=True)))\u001b[0m\n\u001b[0m                       ^\u001b[0m\n\u001b[0;31mSyntaxError\u001b[0m\u001b[0;31m:\u001b[0m invalid syntax\n"
     ]
    }
   ],
   "source": [
    "import random\n",
    "\n",
    "def generate(length, capitalize=False, numbers=False, symbols=False):\n",
    "    list_lowercase = 'abcdefghijklmnopqrstuvwxyz'\n",
    "    list_uppercase = 'ABCDEFGHIJKLMNOPQRSTUVWXYZ'\n",
    "    list_numbers = '0123456789'\n",
    "    list_symbols = '!@#$%^&*()-_+=[]{}|:;,./?~'\n",
    "    \n",
    "    all_chars = list_lowercase\n",
    "    password = [random.choice(list_lowercase)]\n",
    "    \n",
    "    if capitalize:\n",
    "        all_chars+=list_uppercase\n",
    "        password.append(random.choice(list_uppercase))\n",
    "    if numbers:\n",
    "        all_chars+=list_numbers\n",
    "        password.append(random.choice(list_numbers))\n",
    "    if symbols:\n",
    "        all_chars+=list_symbols\n",
    "        password.append(random.choice(list_symbols))\n",
    "        \n",
    "    while len(password) < length:\n",
    "        password.append(random.choice(all_chars))\n",
    "        \n",
    "    return ''.join(password)\n",
    "\n",
    "# Example Usage\n",
    "print(len(generate(, capitalize=True, numbers=True, symbols=True)))\n"
   ]
  },
  {
   "cell_type": "code",
   "execution_count": 46,
   "metadata": {},
   "outputs": [
    {
     "name": "stdout",
     "output_type": "stream",
     "text": [
      "Collecting pytest\n",
      "  Using cached pytest-8.3.5-py3-none-any.whl.metadata (7.6 kB)\n",
      "Requirement already satisfied: exceptiongroup>=1.0.0rc8 in /Users/shauryasr/fin_toolkit/.conda/lib/python3.10/site-packages (from pytest) (1.2.0)\n",
      "Collecting iniconfig (from pytest)\n",
      "  Using cached iniconfig-2.0.0-py3-none-any.whl.metadata (2.6 kB)\n",
      "Requirement already satisfied: packaging in /Users/shauryasr/fin_toolkit/.conda/lib/python3.10/site-packages (from pytest) (23.2)\n",
      "Collecting pluggy<2,>=1.5 (from pytest)\n",
      "  Using cached pluggy-1.5.0-py3-none-any.whl.metadata (4.8 kB)\n",
      "Collecting tomli>=1 (from pytest)\n",
      "  Downloading tomli-2.2.1-py3-none-any.whl.metadata (10 kB)\n",
      "Using cached pytest-8.3.5-py3-none-any.whl (343 kB)\n",
      "Using cached pluggy-1.5.0-py3-none-any.whl (20 kB)\n",
      "Downloading tomli-2.2.1-py3-none-any.whl (14 kB)\n",
      "Using cached iniconfig-2.0.0-py3-none-any.whl (5.9 kB)\n",
      "Installing collected packages: tomli, pluggy, iniconfig, pytest\n",
      "Successfully installed iniconfig-2.0.0 pluggy-1.5.0 pytest-8.3.5 tomli-2.2.1\n",
      "Note: you may need to restart the kernel to use updated packages.\n"
     ]
    }
   ],
   "source": [
    "%pip install pytest"
   ]
  },
  {
   "cell_type": "code",
   "execution_count": 47,
   "metadata": {},
   "outputs": [
    {
     "ename": "ModuleNotFoundError",
     "evalue": "No module named 'core'",
     "output_type": "error",
     "traceback": [
      "\u001b[0;31m---------------------------------------------------------------------------\u001b[0m",
      "\u001b[0;31mModuleNotFoundError\u001b[0m                       Traceback (most recent call last)",
      "Cell \u001b[0;32mIn[47], line 5\u001b[0m\n\u001b[1;32m      3\u001b[0m \u001b[38;5;28;01mimport\u001b[39;00m \u001b[38;5;21;01mstring\u001b[39;00m\n\u001b[1;32m      4\u001b[0m \u001b[38;5;28;01mimport\u001b[39;00m \u001b[38;5;21;01mpassword_generator\u001b[39;00m\u001b[38;5;21;01m.\u001b[39;00m\u001b[38;5;21;01mcore\u001b[39;00m \u001b[38;5;28;01mas\u001b[39;00m \u001b[38;5;21;01mcore\u001b[39;00m\n\u001b[0;32m----> 5\u001b[0m \u001b[38;5;28;01mfrom\u001b[39;00m \u001b[38;5;21;01mcore\u001b[39;00m \u001b[38;5;28;01mimport\u001b[39;00m generate, caesar_cipher, scramble, binary_password, generateHash, getFunnyPassword\n\u001b[1;32m      7\u001b[0m \u001b[38;5;28;01mdef\u001b[39;00m \u001b[38;5;21mtest_generate\u001b[39m():\n\u001b[1;32m      8\u001b[0m     password \u001b[38;5;241m=\u001b[39m generate(\u001b[38;5;241m10\u001b[39m)\n",
      "\u001b[0;31mModuleNotFoundError\u001b[0m: No module named 'core'"
     ]
    }
   ],
   "source": [
    "import pytest\n",
    "import hashlib\n",
    "import string\n",
    "import password_generator.core as core\n",
    "\n",
    "def test_generate():\n",
    "    password = core.generate(10)\n",
    "    assert isinstance(password, str)\n",
    "    assert len(password) == 10\n",
    "\n",
    "def test_generate_upper():\n",
    "    password = core.generate(10, capitalize = True)\n",
    "    assert isinstance(password, str)\n",
    "    assert any(char.isupper() for char in password)\n",
    "\n",
    "def test_generate_number():\n",
    "    password = core.generate(10, numbers = True)\n",
    "    assert isinstance(password, str)\n",
    "    assert any(char.isdigit() for char in password)\n",
    "\n",
    "def test_generate_symbol():\n",
    "    password = core.generate(10, symbols = True)\n",
    "    assert isinstance(password, str)\n",
    "    assert any(char in string.punctuation for char in password)\n",
    "\n",
    "def test_generate_number_cap():\n",
    "    password = core.generate(10, numbers = True, capitalize = True)\n",
    "    assert isinstance(password, str)\n",
    "    assert any(char.isdigit() for char in password)\n",
    "    assert any(char.isupper() for char in password)\n",
    "\n",
    "def test_generate_number_symbol():\n",
    "    password = core.generate(10, numbers = True, symbols = True)\n",
    "    assert isinstance(password, str)\n",
    "    assert any(char.isdigit() for char in password)\n",
    "    assert any(char in string.punctuation for char in password)\n",
    "\n",
    "def test_generate_cap_symbol():\n",
    "    password = core.generate(10, capitalize = True, symbols = True)\n",
    "    assert isinstance(password, str)\n",
    "    assert any(char.isupper() for char in password)\n",
    "    assert any(char in string.punctuation for char in password)\n",
    "\n",
    "def test_generate_number_cap_symbol():\n",
    "    password = core.generate(10, numbers = True, capitalize = True, symbols = True)\n",
    "    assert isinstance(password, str)\n",
    "    assert any(char.isdigit() for char in password)\n",
    "    assert any(char.isupper() for char in password)\n",
    "    assert any(char in string.punctuation for char in password)\n",
    "\n",
    "def test_caesar_cipher():\n",
    "    pass\n",
    "\n",
    "def test_scramble():\n",
    "    test_cases = [\"hello\", \"shaurya\", \"asjdkd7832\", \"nsdkajkkadj!askd&\", \"kjaibbd88*jsd8\"]\n",
    "    for test in test_cases:\n",
    "        scrambled_string = core.scramble(test)\n",
    "        assert len(test) == len(scrambled_string)\n",
    "        char_list_test = [char for char in test]\n",
    "        char_list_scrambled = [char for char in scrambled_string]\n",
    "        for char in char_list_test:\n",
    "            assert char in char_list_scrambled\n",
    "\n",
    "def test_binary_password():\n",
    "    bin_password = core.binary_password(10)\n",
    "    assert isinstance(bin_password, str)\n",
    "    assert len(bin_password) == 10\n",
    "    bitlist = list('01')\n",
    "    for char in bin_password:\n",
    "        assert char in bitlist\n",
    "\n",
    "def test_generateHash():\n",
    "    pass_hash = core.generateHash(\"password\")\n",
    "    assert isinstance(pass_hash, str)\n",
    "    assert len(pass_hash) == 64\n"
   ]
  }
 ],
 "metadata": {
  "kernelspec": {
   "display_name": "Python 3",
   "language": "python",
   "name": "python3"
  },
  "language_info": {
   "codemirror_mode": {
    "name": "ipython",
    "version": 3
   },
   "file_extension": ".py",
   "mimetype": "text/x-python",
   "name": "python",
   "nbconvert_exporter": "python",
   "pygments_lexer": "ipython3",
   "version": "3.10.13"
  }
 },
 "nbformat": 4,
 "nbformat_minor": 2
}
